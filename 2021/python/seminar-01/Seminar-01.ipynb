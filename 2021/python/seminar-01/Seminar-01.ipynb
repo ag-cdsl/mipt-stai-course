{
  "cells": [
    {
      "attachments": {},
      "cell_type": "markdown",
      "metadata": {
        "id": "dzNng6vCL9eP"
      },
      "source": [
        "# МТИИ 2023: Python\n",
        "## Семинар 1: Базовые конструкции языка. "
      ]
    },
    {
      "cell_type": "markdown",
      "metadata": {
        "id": "qVrTo-LhL9eS"
      },
      "source": [
        "## Введение"
      ]
    },
    {
      "attachments": {},
      "cell_type": "markdown",
      "metadata": {
        "id": "9t1gKp9PL9eV"
      },
      "source": [
        "\n",
        "Python $-$ это язык программирования общего назначения, но благодаря набору библиотек (numpy, scipy, matplotlib) он становится мощной средой для научных вычислений.\n",
        "\n",
        "Предполагается, что у большинства из вас есть опыт написания программ на питоне или других языках программирования. \n"
      ]
    },
    {
      "cell_type": "markdown",
      "metadata": {
        "id": "U1PvreR9L9eW"
      },
      "source": [
        "В данном разделе мы пройдем::\n",
        "\n",
        "* Введение в Python: базовые типы (Containers, Lists, Dictionaries, Sets, Tuples), функции, классы "
      ]
    },
    {
      "attachments": {},
      "cell_type": "markdown",
      "metadata": {
        "id": "nxvEkGXPM3Xh"
      },
      "source": [
        "## Версии Python\n",
        "\n",
        "C  1 января, 2020, Python [прекратил поддержку](https://www.python.org/doc/sunset-python-2/) `python2`. В данном курсе мы будем использовать именно Python 3 (рекомендуется использовать версию 3.9+). Вы можете проверить вашу версия Python с помощью команды: `python --version`. В Colab, мы можем изменить версию Python в `Runtime -> Change Runtime Type` нужно выбрать `python3`."
      ]
    },
    {
      "cell_type": "code",
      "execution_count": null,
      "metadata": {
        "colab": {
          "base_uri": "https://localhost:8080/"
        },
        "id": "1L4Am0QATgOc",
        "outputId": "c3d09af2-e5a6-4054-8c39-4d35235c8801"
      },
      "outputs": [],
      "source": [
        "from platform import python_version\n",
        "print(python_version())"
      ]
    },
    {
      "cell_type": "markdown",
      "metadata": {
        "id": "JAFKYgrpL9eY"
      },
      "source": [
        "## Введение в Python"
      ]
    },
    {
      "attachments": {},
      "cell_type": "markdown",
      "metadata": {
        "id": "RbFS6tdgL9ea"
      },
      "source": [
        "Python - это высокоуровневый мультипарадигменный язык программирования с динамической типизацией. Код Python часто называют псевдокодом, поскольку он позволяет сложные идеи с помощью нескольких строк кода, что делает код  удобочитаемым. В качестве примера, вот реализация классического алгоритма быстрой сортировки на Python:"
      ]
    },
    {
      "cell_type": "code",
      "execution_count": null,
      "metadata": {
        "colab": {
          "base_uri": "https://localhost:8080/",
          "height": 34
        },
        "id": "cYb0pjh1L9eb",
        "outputId": "9a8e37de-1dc1-4092-faee-06ad4ff2d73a"
      },
      "outputs": [],
      "source": [
        "def quick_sort(a):\n",
        "    if len(a) <= 1:\n",
        "        return a\n",
        "    pivot = a[len(a) // 2] # (?)\n",
        "    left = [x for x in a if x < pivot]\n",
        "    middle = [x for x in a if x == pivot]\n",
        "    right = [x for x in a if x > pivot]\n",
        "    return quick_sort(left) + middle + quick_sort(right)\n",
        "\n",
        "print(quick_sort([3,6,8,10,1,2,1]))"
      ]
    },
    {
      "cell_type": "markdown",
      "metadata": {
        "id": "NwS_hu4xL9eo"
      },
      "source": [
        "### Базовые типы"
      ]
    },
    {
      "cell_type": "markdown",
      "metadata": {
        "id": "DL5sMSZ9L9eq"
      },
      "source": [
        "#### Числа (Numbers)"
      ]
    },
    {
      "cell_type": "markdown",
      "metadata": {
        "id": "MGS0XEWoL9er"
      },
      "source": [
        "Целые числа и числа с плавающей точкой работают так, как и в других языках:"
      ]
    },
    {
      "cell_type": "code",
      "execution_count": null,
      "metadata": {
        "colab": {
          "base_uri": "https://localhost:8080/",
          "height": 52
        },
        "id": "KheDr_zDL9es",
        "outputId": "1db9f4d3-2e0d-4008-f78a-161ed52c4359"
      },
      "outputs": [],
      "source": [
        "x = 3\n",
        "print(x)\n",
        "print(type(x))"
      ]
    },
    {
      "cell_type": "code",
      "execution_count": null,
      "metadata": {
        "colab": {
          "base_uri": "https://localhost:8080/",
          "height": 86
        },
        "id": "sk_8DFcuL9ey",
        "outputId": "dd60a271-3457-465d-e16a-41acf12a56ab"
      },
      "outputs": [],
      "source": [
        "x = 3\n",
        "print(x + 1)   # сложение\n",
        "print(x - 1)   # вычитаение\n",
        "print(x * 2)   # умножение\n",
        "print(x ** 2)  # возведение в степень"
      ]
    },
    {
      "cell_type": "code",
      "execution_count": null,
      "metadata": {
        "colab": {
          "base_uri": "https://localhost:8080/",
          "height": 52
        },
        "id": "U4Jl8K0tL9e4",
        "outputId": "07e3db14-3781-42b7-8ba6-042b3f9f72ba"
      },
      "outputs": [],
      "source": [
        "x += 1\n",
        "print(x)\n",
        "x *= 2\n",
        "print(x)"
      ]
    },
    {
      "cell_type": "code",
      "execution_count": null,
      "metadata": {
        "id": "ODEsn6_1EtY6",
        "outputId": "0f971382-3e3b-42cb-c116-139f1530846c"
      },
      "outputs": [],
      "source": [
        "x = 3\n",
        "x /= 3\n",
        "print(x)\n",
        "y = 1.00000000000000000000000001\n",
        "if x == y:\n",
        "    print('equal')"
      ]
    },
    {
      "cell_type": "code",
      "execution_count": null,
      "metadata": {
        "colab": {
          "base_uri": "https://localhost:8080/",
          "height": 52
        },
        "id": "w-nZ0Sg_L9e9",
        "outputId": "3aa579f8-9540-46ef-935e-be887781ecb4"
      },
      "outputs": [],
      "source": [
        "y = 2.5\n",
        "print(type(y))\n",
        "print(y, y + 1, y * 2, y ** 2)"
      ]
    },
    {
      "attachments": {},
      "cell_type": "markdown",
      "metadata": {
        "id": "r2A9ApyaL9fB"
      },
      "source": [
        "Замечание: Python не имеет унарных операторов `++` и `--` (с++).\n",
        "\n",
        "В Python есть встроенные типы для длинной арифметики и комплексных чисел, вы можете посмотреть детали в [документации](https://docs.python.org/3/library/stdtypes.html#numeric-types-int-float-complex)."
      ]
    },
    {
      "cell_type": "code",
      "execution_count": null,
      "metadata": {
        "id": "n0QyM1ZbEtY7",
        "outputId": "7e321e2e-b909-4b73-cf3c-bf36a9e8e56a"
      },
      "outputs": [],
      "source": [
        "x = 42 ** 42\n",
        "print(x)"
      ]
    },
    {
      "cell_type": "markdown",
      "metadata": {
        "id": "EqRS7qhBL9fC"
      },
      "source": [
        "#### Логический тип (Booleans)"
      ]
    },
    {
      "cell_type": "markdown",
      "metadata": {
        "id": "Nv_LIVOJL9fD"
      },
      "source": [
        "Python реализует все обычные логические операторы , но использует английские слова, а не символы. (`&&`, `||`, и т.д.):"
      ]
    },
    {
      "cell_type": "code",
      "execution_count": null,
      "metadata": {
        "colab": {
          "base_uri": "https://localhost:8080/",
          "height": 34
        },
        "id": "RvoImwgGL9fE",
        "outputId": "1517077b-edca-463f-857b-6a8c386cd387"
      },
      "outputs": [],
      "source": [
        "t, f = True, False\n",
        "print(type(t))"
      ]
    },
    {
      "cell_type": "markdown",
      "metadata": {
        "id": "YQgmQfOgL9fI"
      },
      "source": [
        "Давайте посмотрим на операции:"
      ]
    },
    {
      "cell_type": "code",
      "execution_count": null,
      "metadata": {
        "colab": {
          "base_uri": "https://localhost:8080/",
          "height": 86
        },
        "id": "6zYm7WzCL9fK",
        "outputId": "f3cebe76-5af4-473a-8127-88a1fd60560f"
      },
      "outputs": [],
      "source": [
        "print(t and f) # AND;\n",
        "print(t or f)  # OR;\n",
        "print(not t)   # NOT;\n",
        "print(t != f)  # XOR;"
      ]
    },
    {
      "cell_type": "markdown",
      "metadata": {
        "id": "UQnQWFEyL9fP"
      },
      "source": [
        "#### Строки (Strings)"
      ]
    },
    {
      "cell_type": "code",
      "execution_count": null,
      "metadata": {
        "colab": {
          "base_uri": "https://localhost:8080/",
          "height": 34
        },
        "id": "AijEDtPFL9fP",
        "outputId": "2a6b0cd7-58f1-43cf-e6b7-bf940d532549"
      },
      "outputs": [],
      "source": [
        "hello = 'hello'   # можем использовать, как одинарные,\n",
        "world = \"world\"   # так и двойные ковычки; разницы здесь нет (?)\n",
        "print(hello, len(hello))"
      ]
    },
    {
      "cell_type": "code",
      "execution_count": null,
      "metadata": {
        "colab": {
          "base_uri": "https://localhost:8080/",
          "height": 34
        },
        "id": "saDeaA7hL9fT",
        "outputId": "2837d0ab-9ae5-4053-d087-bfa0af81c344"
      },
      "outputs": [],
      "source": [
        "hw = hello + ' ' + world  # конкатенация строк\n",
        "print(hw)"
      ]
    },
    {
      "cell_type": "code",
      "execution_count": null,
      "metadata": {
        "id": "R7OexttQEtY9",
        "outputId": "e721701c-a271-49d8-978b-ef882ee68833"
      },
      "outputs": [],
      "source": [
        "print(hello[0])"
      ]
    },
    {
      "cell_type": "code",
      "execution_count": null,
      "metadata": {
        "id": "nxfPD7GOEtY-",
        "outputId": "034db5fc-5ec8-411c-ac8b-0aad87070ba2"
      },
      "outputs": [],
      "source": [
        "hello[0] = 'x'"
      ]
    },
    {
      "cell_type": "code",
      "execution_count": null,
      "metadata": {
        "colab": {
          "base_uri": "https://localhost:8080/",
          "height": 34
        },
        "id": "Nji1_UjYL9fY",
        "outputId": "0149b0ca-425a-4a34-8e24-8dff7080922e"
      },
      "outputs": [],
      "source": [
        "hw12 = '{} {} {}'.format(hello, world, 12)  # подстановка значений (formatting) \n",
        "print(hw12)"
      ]
    },
    {
      "cell_type": "markdown",
      "metadata": {
        "id": "qSgsFZySEtY-"
      },
      "source": [
        "Есть способо удобнее $-$ f-strings https://www.python.org/dev/peps/pep-0498/"
      ]
    },
    {
      "cell_type": "code",
      "execution_count": null,
      "metadata": {
        "id": "DokHe6MmEtY-",
        "outputId": "ff133243-1f9f-48fb-c528-8578036aa34e"
      },
      "outputs": [],
      "source": [
        "pretty_hw = f'{hello} {world} {y+5}' \n",
        "print(pretty_hw)"
      ]
    },
    {
      "cell_type": "markdown",
      "metadata": {
        "id": "bUpl35bIL9fc"
      },
      "source": [
        "Строки, как объекты имеют ряд полезных методов, например: "
      ]
    },
    {
      "cell_type": "code",
      "execution_count": null,
      "metadata": {
        "colab": {
          "base_uri": "https://localhost:8080/",
          "height": 121
        },
        "id": "VOxGatlsL9fd",
        "outputId": "ab009df3-8643-4d3e-f85f-a813b70db9cb"
      },
      "outputs": [],
      "source": [
        "s = \"hello\"\n",
        "print(s.capitalize())  # делает первую букву заглавной\n",
        "print(s.upper())       # переводит строку \"hello\" в верхний регистр \"HELLO\"\n",
        "print(s.rjust(7))      # выравнивает строку по правому краю, заполняя пропуски пробелами\n",
        "print(s.center(7))     # центрирует строку\n",
        "print(s.replace('l', '(ell)'))  # заменяет все вхождения 'l', на '(ell)'\n",
        "print('  world '.strip())  #  удаляет начальные и конечные пробелы"
      ]
    },
    {
      "attachments": {},
      "cell_type": "markdown",
      "metadata": {
        "id": "06cayXLtL9fi"
      },
      "source": [
        "Вы можете найти все строковые методы в [документации](https://docs.python.org/3/library/stdtypes.html#string-methods)."
      ]
    },
    {
      "cell_type": "markdown",
      "metadata": {
        "id": "p-6hClFjL9fk"
      },
      "source": [
        "### Встроенные структуры (Containers)"
      ]
    },
    {
      "cell_type": "markdown",
      "metadata": {
        "id": "FD9H18eQL9fk"
      },
      "source": [
        "Python включает несколько встроенных типов контейнеров: списки (lists), словари (dictionaries), множества (sets), и кортежи (tuples)."
      ]
    },
    {
      "cell_type": "markdown",
      "metadata": {
        "id": "UsIWOe0LL9fn"
      },
      "source": [
        "#### Lists"
      ]
    },
    {
      "attachments": {},
      "cell_type": "markdown",
      "metadata": {
        "id": "wzxX7rgWL9fn"
      },
      "source": [
        "Список является эквивалентом массива в Python, но размер списка может изменяться динамически. Список может содержать элементы разных типов:"
      ]
    },
    {
      "cell_type": "code",
      "execution_count": null,
      "metadata": {
        "colab": {
          "base_uri": "https://localhost:8080/",
          "height": 52
        },
        "id": "hk3A8pPcL9fp",
        "outputId": "b545939a-580c-4356-db95-7ad3670b46e4"
      },
      "outputs": [],
      "source": [
        "xs = [3, 1, 2]   # создаем список\n",
        "print(xs, xs[2])\n",
        "print(xs[-1])     # минус индексация дает значения с конца списка; выведет \"2\""
      ]
    },
    {
      "cell_type": "code",
      "execution_count": null,
      "metadata": {
        "colab": {
          "base_uri": "https://localhost:8080/",
          "height": 34
        },
        "id": "YCjCy_0_L9ft",
        "outputId": "417c54ff-170b-4372-9099-0f756f8e48af"
      },
      "outputs": [],
      "source": [
        "xs[2] = 'foo'    # списки могут содержать данные разных типов\n",
        "print(xs)"
      ]
    },
    {
      "cell_type": "code",
      "execution_count": null,
      "metadata": {
        "colab": {
          "base_uri": "https://localhost:8080/",
          "height": 34
        },
        "id": "vJ0x5cF-L9fx",
        "outputId": "a97731a3-70e1-4553-d9e0-2aea227cac80"
      },
      "outputs": [],
      "source": [
        "xs.append('bar') # мы можем добавить элемент к концу списка\n",
        "print(xs)  "
      ]
    },
    {
      "cell_type": "code",
      "execution_count": null,
      "metadata": {
        "colab": {
          "base_uri": "https://localhost:8080/",
          "height": 34
        },
        "id": "cxVCNRTNL9f1",
        "outputId": "508fbe59-20aa-48b5-a1b2-f90363e7a104"
      },
      "outputs": [],
      "source": [
        "x = xs.pop()     # и убрать его\n",
        "print(x, xs)"
      ]
    },
    {
      "attachments": {},
      "cell_type": "markdown",
      "metadata": {
        "id": "ilyoyO34L9f4"
      },
      "source": [
        "Как обычно, вы можете посмотреть подробности в [документации](https://docs.python.org/3/tutorial/datastructures.html#more-on-lists)."
      ]
    },
    {
      "cell_type": "markdown",
      "metadata": {
        "id": "ovahhxd_L9f5"
      },
      "source": [
        "#### \"Нарезка\" (Slicing)"
      ]
    },
    {
      "cell_type": "markdown",
      "metadata": {
        "id": "YeSYKhv9L9f6"
      },
      "source": [
        "Помимо доступа к единственному элементу списка, Python предоставляет синтаксис для доступа к подспискам; это называется slicing:"
      ]
    },
    {
      "cell_type": "code",
      "execution_count": null,
      "metadata": {
        "colab": {
          "base_uri": "https://localhost:8080/",
          "height": 139
        },
        "id": "ninq666bL9f6",
        "outputId": "c3c2ed92-7358-4fdb-bbc0-e90f82e7e941"
      },
      "outputs": [],
      "source": [
        "nums = list(range(5))    # range - это встроенная функция, которая создает список целых чисел\n",
        "print(nums)              # печатает \"[0, 1, 2, 3, 4]\""
      ]
    },
    {
      "cell_type": "code",
      "execution_count": null,
      "metadata": {
        "id": "7qL30CisEtZA",
        "outputId": "9b5d61a4-ae5e-4480-cd75-a0a6ba73c420"
      },
      "outputs": [],
      "source": [
        "print(nums[2:4])    # получить срез с индекса 2 по 4 (не включительно); печатает \"[2, 3]\""
      ]
    },
    {
      "cell_type": "code",
      "execution_count": null,
      "metadata": {
        "id": "vDsDS7bfEtZA",
        "outputId": "8a760e5a-2594-486f-ba3a-e5bb26a27614"
      },
      "outputs": [],
      "source": [
        "print(nums[2:])     # получить срез с индекса 2 и до конца списка; печатает \"[2, 3, 4]\"\n",
        "print(nums[:2])     # получить срез с начала списка до индекса 2 (не включительно); печатает \"[0, 1]\""
      ]
    },
    {
      "cell_type": "code",
      "execution_count": null,
      "metadata": {
        "id": "ppdELLJHEtZA",
        "outputId": "a36354d5-013a-4338-cacc-6bf7917537e2"
      },
      "outputs": [],
      "source": [
        "print(nums[:])      # получает срез всего списка (?); печатает [\"0, 1, 2, 3, 4]\"\n",
        "#new_nums = copy(nums)\n",
        "#new_nums = nums[:]\n",
        "print(nums[:-1])    # индексы могут быть отрицательными; печатает [\"0, 1, 2, 3]\""
      ]
    },
    {
      "cell_type": "code",
      "execution_count": null,
      "metadata": {
        "id": "xCRI-KzNEtZA",
        "outputId": "977560f3-ea57-4f95-cf06-847644e61a8f"
      },
      "outputs": [],
      "source": [
        "nums = list(range(5)) \n",
        "print(nums)\n",
        "nums[2:4] = [3, 14, 15, 92] # можем назначить срезу списка новое значение \n",
        "print(nums)         # печатает \"[0, 1, 8, 9, 4]\""
      ]
    },
    {
      "cell_type": "markdown",
      "metadata": {
        "id": "UONpMhF4L9f_"
      },
      "source": [
        "#### Циклы (Loops)"
      ]
    },
    {
      "cell_type": "markdown",
      "metadata": {
        "id": "_DYz1j6QL9f_"
      },
      "source": [
        "Вы можете проходить по всем элементам списка следующим образом:"
      ]
    },
    {
      "cell_type": "code",
      "execution_count": null,
      "metadata": {
        "colab": {
          "base_uri": "https://localhost:8080/",
          "height": 69
        },
        "id": "4cCOysfWL9gA",
        "outputId": "560e46c7-279c-409a-838c-64bea8d321c4"
      },
      "outputs": [],
      "source": [
        "animals = ['cat', 'dog', 'monkey']\n",
        "for index in range(3):\n",
        "    print(animals[index])"
      ]
    },
    {
      "cell_type": "markdown",
      "metadata": {
        "id": "KxIaQs7pL9gE"
      },
      "source": [
        "Если вам нужен доступ к индексу каждого элемента в теле цикла, используйте встроенную функцию `enumerate`:"
      ]
    },
    {
      "cell_type": "code",
      "execution_count": null,
      "metadata": {
        "colab": {
          "base_uri": "https://localhost:8080/",
          "height": 69
        },
        "id": "JjGnDluWL9gF",
        "outputId": "81421905-17ea-4c5a-bcc0-176de19fd9bd"
      },
      "outputs": [],
      "source": [
        "animals = ['cat', 'dog', 'monkey']\n",
        "\n",
        "for index, animal in enumerate(animals):\n",
        "    print(f'#{index+1}: {animal}')"
      ]
    },
    {
      "cell_type": "code",
      "execution_count": null,
      "metadata": {
        "id": "k2D3vzmlEtZB",
        "outputId": "4f1d120f-0b1b-4889-a5d6-1f2cb7c6242a"
      },
      "outputs": [],
      "source": [
        "x, y, *_ = [3, 4, 213, 321, 432, 5432]\n",
        "print(x, y)"
      ]
    },
    {
      "cell_type": "code",
      "execution_count": null,
      "metadata": {
        "id": "o21Z5XMnEtZB",
        "outputId": "3ea66baa-8ae7-4147-b880-441feec11169"
      },
      "outputs": [],
      "source": [
        "to_print = [1, 2, 3, 4]\n",
        "print(to_print)"
      ]
    },
    {
      "cell_type": "code",
      "execution_count": null,
      "metadata": {
        "id": "BzLI1dx-EtZB",
        "outputId": "fd9abcee-774c-4a1a-d543-0e2646b859b5"
      },
      "outputs": [],
      "source": [
        "print(*to_print)"
      ]
    },
    {
      "cell_type": "markdown",
      "metadata": {
        "id": "arrLCcMyL9gK"
      },
      "source": [
        "#### Генерация списков (List comprehensions):"
      ]
    },
    {
      "cell_type": "markdown",
      "metadata": {
        "id": "5Qn2jU_pL9gL"
      },
      "source": [
        "При программировании мы часто хотим удобным образом изменять значения переменных. В качестве простого примера рассмотрим следующий код, который вычисляет квадраты чисел:"
      ]
    },
    {
      "cell_type": "code",
      "execution_count": null,
      "metadata": {
        "colab": {
          "base_uri": "https://localhost:8080/",
          "height": 34
        },
        "id": "IVNEwoMXL9gL",
        "outputId": "d571445b-055d-45f0-f800-24fd76ceec5a"
      },
      "outputs": [],
      "source": [
        "nums = [0, 1, 2, 3, 4]\n",
        "squares = []\n",
        "for x in nums:\n",
        "    squares.append(x ** 2)\n",
        "print(squares)"
      ]
    },
    {
      "cell_type": "markdown",
      "metadata": {
        "id": "7DmKVUFaL9gQ"
      },
      "source": [
        "Упростим этот код, используя генератор списков:"
      ]
    },
    {
      "cell_type": "code",
      "execution_count": null,
      "metadata": {
        "colab": {
          "base_uri": "https://localhost:8080/",
          "height": 34
        },
        "id": "kZxsUfV6L9gR",
        "outputId": "4254a7d4-58ba-4f70-a963-20c46b485b72"
      },
      "outputs": [],
      "source": [
        "nums = [0, 1, 2, 3, 4]\n",
        "squares = [x ** 2 for x in nums]\n",
        "print(squares)"
      ]
    },
    {
      "cell_type": "markdown",
      "metadata": {
        "id": "-D8ARK7tL9gV"
      },
      "source": [
        "В генерацию списков может включать условие:"
      ]
    },
    {
      "cell_type": "code",
      "execution_count": null,
      "metadata": {
        "colab": {
          "base_uri": "https://localhost:8080/",
          "height": 34
        },
        "id": "yUtgOyyYL9gV",
        "outputId": "1ae7ab58-8119-44dc-8e57-fda09197d026"
      },
      "outputs": [],
      "source": [
        "nums = [0, 1, 2, 3, 4]\n",
        "even_squares = [x ** 2 for x in nums if x % 2 == 0]\n",
        "print(even_squares)"
      ]
    },
    {
      "cell_type": "markdown",
      "metadata": {
        "id": "H8xsUEFpL9gZ"
      },
      "source": [
        "#### Словари (Dictionaries)"
      ]
    },
    {
      "cell_type": "markdown",
      "metadata": {
        "id": "kkjAGMAJL9ga"
      },
      "source": [
        "Словарь хранит пары (ключ, значение), аналогично `Map` в Java или объекту в Javascript. Вы можете использовать это так:"
      ]
    },
    {
      "cell_type": "code",
      "execution_count": null,
      "metadata": {
        "colab": {
          "base_uri": "https://localhost:8080/",
          "height": 52
        },
        "id": "XBYI1MrYL9gb",
        "outputId": "8e24c1da-0fc0-4b4c-a3e6-6f758a53b7da"
      },
      "outputs": [],
      "source": [
        "d = {'cat': {'cute': '*'}, 'dog': 'furry'}  # создаем новый словарь\n",
        "print(d['cat'])       # получаем запись из словаря; печатает \"cute\"\n",
        "print('cat' in d)     # проверяем, есть ли в словаре заданный ключ; печатает \"True\""
      ]
    },
    {
      "cell_type": "code",
      "execution_count": null,
      "metadata": {
        "colab": {
          "base_uri": "https://localhost:8080/",
          "height": 34
        },
        "id": "pS7e-G-HL9gf",
        "outputId": "feb4bf18-c0a3-42a2-eaf5-3fc390f36dcf"
      },
      "outputs": [],
      "source": [
        "d['fish'] = 'wet'    # добавляем значение\n",
        "print(d['fish'])     # печатает \"wet\""
      ]
    },
    {
      "cell_type": "code",
      "execution_count": null,
      "metadata": {
        "colab": {
          "base_uri": "https://localhost:8080/",
          "height": 165
        },
        "id": "tFY065ItL9gi",
        "outputId": "7e42a5f0-1856-4608-a927-0930ab37a66c"
      },
      "outputs": [],
      "source": [
        "print(d['monkey'])  # KeyError: ключа 'monkey' в нашем словаре нет"
      ]
    },
    {
      "cell_type": "code",
      "execution_count": null,
      "metadata": {
        "colab": {
          "base_uri": "https://localhost:8080/",
          "height": 52
        },
        "id": "8TjbEWqML9gl",
        "outputId": "ef14d05e-401d-4d23-ed1a-0fe6b4c77d6f"
      },
      "outputs": [],
      "source": [
        "print(d.get('monkey', 'N/A'))  # Get - получает элемент со значением по-умолчанию; печатает \"N/A\"\n",
        "print(d.get('fish', 'N/A'))    # печатает \"wet\""
      ]
    },
    {
      "cell_type": "code",
      "execution_count": null,
      "metadata": {
        "colab": {
          "base_uri": "https://localhost:8080/",
          "height": 34
        },
        "id": "0EItdNBJL9go",
        "outputId": "652a950f-b0c2-4623-98bd-0191b300cd57"
      },
      "outputs": [],
      "source": [
        "print(d.get('fish', 'N/A'))\n",
        "d.pop('fish')        # удаляет элемент из словаря\n",
        "print(d.get('fish', 'N/A')) # ключа \"fish\" теперь нет; печатает \"N/A\""
      ]
    },
    {
      "cell_type": "code",
      "execution_count": null,
      "metadata": {
        "id": "050bUya3EtZC",
        "outputId": "53128e6e-0369-477e-e5eb-ed99dd95b5fa"
      },
      "outputs": [],
      "source": [
        "d.clear() # очищает весь словарь\n",
        "print(d)"
      ]
    },
    {
      "attachments": {},
      "cell_type": "markdown",
      "metadata": {
        "id": "wqm4dRZNL9gr"
      },
      "source": [
        "Вы можете найти все, что вам нужно знать о словарях в [документации](https://docs.python.org/3/library/stdtypes.html#mapping-types-dict)."
      ]
    },
    {
      "cell_type": "markdown",
      "metadata": {
        "id": "IxwEqHlGL9gr"
      },
      "source": [
        "Пройти по всем ключам словаря $-$ легко:"
      ]
    },
    {
      "cell_type": "code",
      "execution_count": null,
      "metadata": {
        "colab": {
          "base_uri": "https://localhost:8080/",
          "height": 69
        },
        "id": "rYfz7ZKNL9gs",
        "outputId": "155bdb17-3179-4292-c832-8166e955e942"
      },
      "outputs": [],
      "source": [
        "d = {'person': 2, 'cat': 4, 'spider': 8}\n",
        "for animal, legs in d.items():\n",
        "    print(f'A {animal} has {legs} legs')"
      ]
    },
    {
      "cell_type": "markdown",
      "metadata": {
        "id": "17sxiOpzL9gz"
      },
      "source": [
        "Генераторы словарей: очень похожи на генераторы списков. Пример:"
      ]
    },
    {
      "cell_type": "code",
      "execution_count": null,
      "metadata": {
        "colab": {
          "base_uri": "https://localhost:8080/",
          "height": 34
        },
        "id": "8PB07imLL9gz",
        "outputId": "e9ddf886-39ed-4f35-dd80-64a19d2eec9b"
      },
      "outputs": [],
      "source": [
        "nums = [0, 1, 2, 3, 4]\n",
        "even_num_to_square = {x: x ** 2 for x in nums if x % 2 == 0}\n",
        "print(even_num_to_square)"
      ]
    },
    {
      "cell_type": "markdown",
      "metadata": {
        "id": "V9MHfUdvL9g2"
      },
      "source": [
        "#### Множества (Sets)"
      ]
    },
    {
      "cell_type": "markdown",
      "metadata": {
        "id": "Rpm4UtNpL9g2"
      },
      "source": [
        "Множества это неупорядоченная структура данных, состоящая из различимых элементов. Рассмотрим простой пример:"
      ]
    },
    {
      "cell_type": "code",
      "execution_count": null,
      "metadata": {
        "colab": {
          "base_uri": "https://localhost:8080/"
        },
        "id": "MmyaniLsL9g2",
        "outputId": "7cb0aa54-b632-473e-aa97-32298c4440e7"
      },
      "outputs": [],
      "source": [
        "animals = {'cat', 'dog', 'cow'}\n",
        "print(animals)"
      ]
    },
    {
      "cell_type": "code",
      "execution_count": null,
      "metadata": {
        "id": "s4VmcPutG0z2"
      },
      "outputs": [],
      "source": [
        "print('cat' in animals)   # проверяем естьи ли элемент; печатает \"True\"\n",
        "print('fish' in animals)  # печатает \"False\""
      ]
    },
    {
      "cell_type": "code",
      "execution_count": null,
      "metadata": {
        "colab": {
          "base_uri": "https://localhost:8080/"
        },
        "id": "ElJEyK86L9g6",
        "outputId": "12461ea7-97f2-49a5-beb4-7d57fc677c32"
      },
      "outputs": [],
      "source": [
        "animals.add('fish')      # добавляем элемент\n",
        "print('fish' in animals)\n",
        "print(len(animals))      # печатаем количество эелементов;"
      ]
    },
    {
      "cell_type": "code",
      "execution_count": null,
      "metadata": {
        "colab": {
          "base_uri": "https://localhost:8080/",
          "height": 52
        },
        "id": "5uGmrxdPL9g9",
        "outputId": "e644d24c-26c6-4b43-ab15-8aa81fe884d4"
      },
      "outputs": [],
      "source": [
        "animals.add('cat')       # добавление уже имеющегося элемента не делает ничего\n",
        "print(len(animals))       \n",
        "animals.remove('cat')    # удаляет элемент из множества\n",
        "print(len(animals))       "
      ]
    },
    {
      "cell_type": "markdown",
      "metadata": {
        "id": "zk2DbvLKL9g_"
      },
      "source": [
        "Итерирование по множеству: имеет тот же синтаксис, что и итерирование по списку; однако, поскольку наборы неупорядочены, мы не можем ничего сказать о порядке следования элементов:"
      ]
    },
    {
      "cell_type": "code",
      "execution_count": null,
      "metadata": {
        "colab": {
          "base_uri": "https://localhost:8080/"
        },
        "id": "K47KYNGyL9hA",
        "outputId": "2293eedf-3e06-4450-cad5-ad0d4abc6f70"
      },
      "outputs": [],
      "source": [
        "animals = {'cat', 'dog', 'fish'}\n",
        "for index, animal in enumerate(animals):\n",
        "    print(f'#{index+1}: {animal}')"
      ]
    },
    {
      "cell_type": "markdown",
      "metadata": {
        "id": "puq4S8buL9hC"
      },
      "source": [
        "Генерация множеств:"
      ]
    },
    {
      "cell_type": "code",
      "execution_count": null,
      "metadata": {
        "colab": {
          "base_uri": "https://localhost:8080/"
        },
        "id": "iw7k90k3L9hC",
        "outputId": "2a426631-1d1e-4a32-8520-097f2dff0066"
      },
      "outputs": [],
      "source": [
        "from math import sqrt\n",
        "print({int(sqrt(x)) for x in range(30)})"
      ]
    },
    {
      "cell_type": "markdown",
      "metadata": {
        "id": "qPsHSKB1L9hF"
      },
      "source": [
        "#### Кортежи (Tuples)"
      ]
    },
    {
      "cell_type": "markdown",
      "metadata": {
        "id": "kucc0LKVL9hG"
      },
      "source": [
        "Кортеж - это неизменяемый, упорядоченный список значений. Кортеж во многом похож на список; одно из наиболее важных отличий состоит в том, что кортежи могут использоваться как ключи в словарях и как элементы множеств, а списки - нет. Вот банальный пример:"
      ]
    },
    {
      "cell_type": "code",
      "execution_count": null,
      "metadata": {
        "colab": {
          "base_uri": "https://localhost:8080/",
          "height": 69
        },
        "id": "9wHUyTKxL9hH",
        "outputId": "cdc5f620-04fe-4b0b-df7a-55b061d23d88"
      },
      "outputs": [],
      "source": [
        "d = {(x, x + 1): x for x in range(10)}  # создаем словарь\n",
        "print(d)\n",
        "t = (5, 6)       # создает кортеж\n",
        "print(type(t))\n",
        "print(d[t])       \n",
        "print(d[(1, 2)])"
      ]
    },
    {
      "cell_type": "code",
      "execution_count": null,
      "metadata": {
        "colab": {
          "base_uri": "https://localhost:8080/",
          "height": 165
        },
        "id": "HoO8zYKzL9hJ",
        "outputId": "28862bfc-0298-40d7-f8c4-168e109d2d93"
      },
      "outputs": [],
      "source": [
        "t[0] = 1"
      ]
    },
    {
      "cell_type": "code",
      "execution_count": null,
      "metadata": {
        "id": "BcUYYZySEtZE",
        "outputId": "6c4b61df-521f-45f6-de74-2a58881aef43"
      },
      "outputs": [],
      "source": [
        "x = [1, 2, 3]\n",
        "d[x] = 5 # (?)"
      ]
    },
    {
      "attachments": {},
      "cell_type": "markdown",
      "metadata": {
        "id": "Dm5Vg4wsEtZE"
      },
      "source": [
        "Мы можем использовать кортежи, чтобы поменять местами значения двух переменных:"
      ]
    },
    {
      "cell_type": "code",
      "execution_count": null,
      "metadata": {
        "id": "nNt8ngwoEtZE",
        "outputId": "223a54a4-d0dd-43ed-89d0-ba573c169ddf"
      },
      "outputs": [],
      "source": [
        "x = 5\n",
        "y = 3\n",
        "print(x, y)\n",
        "x, y = y, x\n",
        "print(x, y)"
      ]
    },
    {
      "cell_type": "markdown",
      "metadata": {
        "id": "AXA4jrEOL9hM"
      },
      "source": [
        "### Функции (Functions)"
      ]
    },
    {
      "cell_type": "markdown",
      "metadata": {
        "id": "WaRms-QfL9hN"
      },
      "source": [
        "Функции Python определяются с помощью `def`. Например:"
      ]
    },
    {
      "cell_type": "code",
      "execution_count": null,
      "metadata": {
        "colab": {
          "base_uri": "https://localhost:8080/",
          "height": 69
        },
        "id": "kiMDUr58L9hN",
        "outputId": "9f53bf9a-7b2a-4c51-9def-398e4677cd6c"
      },
      "outputs": [],
      "source": [
        "def sign(x) -> str:\n",
        "    if x > 0:\n",
        "        return 'positive'\n",
        "    elif x < 0:\n",
        "        return 'negative'\n",
        "    else:\n",
        "        return 'zero'\n",
        "\n",
        "for x in [-1, 0, 1]:\n",
        "    print(sign(x))"
      ]
    },
    {
      "cell_type": "markdown",
      "metadata": {
        "id": "U-QJFt8TL9hR"
      },
      "source": [
        "Часто используется функции с необязательными аргументами:"
      ]
    },
    {
      "cell_type": "code",
      "execution_count": null,
      "metadata": {
        "colab": {
          "base_uri": "https://localhost:8080/",
          "height": 52
        },
        "id": "PfsZ3DazL9hR",
        "outputId": "6e6af832-67d8-4d8c-949b-335927684ae3"
      },
      "outputs": [],
      "source": [
        "def hello(name, loud=False):\n",
        "    if loud:\n",
        "        print(f'HELLO, {name.upper()}!')\n",
        "    else:\n",
        "        print(f'Hello, {name}!')\n",
        "\n",
        "hello('Bob') # (?)\n",
        "hello('Fred', True)"
      ]
    },
    {
      "attachments": {},
      "cell_type": "markdown",
      "metadata": {
        "id": "-eFFd5OUEtZF"
      },
      "source": [
        "Аргументы можно передавать с указанием имени, в таком случае нам не важен порядок:"
      ]
    },
    {
      "cell_type": "code",
      "execution_count": null,
      "metadata": {
        "id": "h7banVXLEtZF",
        "outputId": "043d3f24-0f85-4c5f-cd83-cf33a71ffa51"
      },
      "outputs": [],
      "source": [
        "hello(name='Fred', True)"
      ]
    },
    {
      "cell_type": "code",
      "execution_count": null,
      "metadata": {
        "id": "Z91aQDkvEtZF"
      },
      "outputs": [],
      "source": [
        "def hello(*args, **kwargs):\n",
        "    print(args, kwargs)\n",
        "    \n",
        "hello(1, 2, (3, 4), or_maybe=5, but=\"rather\", six=\"!\")"
      ]
    },
    {
      "cell_type": "markdown",
      "metadata": {
        "id": "ObA9PRtQL9hT"
      },
      "source": [
        "### Классы (Classes)"
      ]
    },
    {
      "cell_type": "markdown",
      "metadata": {
        "id": "hAzL_lTkL9hU"
      },
      "source": [
        "Синтаксис для определения классов в Python прост:"
      ]
    },
    {
      "cell_type": "code",
      "execution_count": null,
      "metadata": {
        "colab": {
          "base_uri": "https://localhost:8080/",
          "height": 52
        },
        "id": "RWdbaGigL9hU",
        "outputId": "4f6615c5-75a7-4ce4-8ea1-1e7f5e4e9fc3"
      },
      "outputs": [],
      "source": [
        "class Greeter:    \n",
        "    x = 5\n",
        "    # конструктор\n",
        "    def __init__(self, name):\n",
        "        self.name = name  # создаем переменную\n",
        "\n",
        "    # метод \n",
        "    def greet(self, loud=False):\n",
        "        if loud:\n",
        "            print(f'HELLO, {self.name.upper()}!')\n",
        "        else:\n",
        "            print(f'Hello, {self.name}!')\n",
        "\n",
        "g = Greeter('Fred')  # создаем объект класса Greeter\n",
        "g.greet()            # вызываем метод Call; печатает \"Hello, Fred\"\n",
        "g.greet(loud=True)   # вызываем метод Call; печатает \"HELLO, FRED!\"\n",
        "\n",
        "print(\"--- o_O ---\")\n",
        "\n",
        "print(g.x, Greeter.x)\n",
        "g.x = 555\n",
        "print(g.x, Greeter.x)\n",
        "Greeter.x = 777\n",
        "print(g.x, Greeter.x)"
      ]
    },
    {
      "attachments": {},
      "cell_type": "markdown",
      "metadata": {
        "id": "eJXA5AWSL9jc"
      },
      "source": [
        "Данная тетрадка была изначально подготовлена [Justin Johnson](https://web.eecs.umich.edu/~justincj/) для курса cs231n."
      ]
    }
  ],
  "metadata": {
    "colab": {
      "collapsed_sections": [],
      "name": "colab-tutorial.ipynb",
      "provenance": []
    },
    "kernelspec": {
      "display_name": "mipt-python-course",
      "language": "python",
      "name": "python3"
    },
    "language_info": {
      "codemirror_mode": {
        "name": "ipython",
        "version": 3
      },
      "file_extension": ".py",
      "mimetype": "text/x-python",
      "name": "python",
      "nbconvert_exporter": "python",
      "pygments_lexer": "ipython3",
      "version": "3.10.6"
    },
    "vscode": {
      "interpreter": {
        "hash": "2348244fd6e5dbb6303e38205f0b9867b2620724ee4db5f2585435999e2df091"
      }
    }
  },
  "nbformat": 4,
  "nbformat_minor": 0
}
